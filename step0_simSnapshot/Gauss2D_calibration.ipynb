{
 "cells": [
  {
   "cell_type": "markdown",
   "metadata": {},
   "source": [
    "### Simulate images to match experimental data and calibrate PT area with diffusivity"
   ]
  },
  {
   "cell_type": "code",
   "execution_count": 1,
   "metadata": {},
   "outputs": [
    {
     "data": {
      "text/plain": [
       "'Using device cuda'"
      ]
     },
     "execution_count": 1,
     "metadata": {},
     "output_type": "execute_result"
    }
   ],
   "source": [
    "%load_ext autoreload\n",
    "%autoreload 2\n",
    "import os\n",
    "import sys\n",
    "module_path = os.path.abspath(os.path.join('../step3_Deep-SnapTrack/')) # or the path to your source code\n",
    "sys.path.insert(0, module_path)\n",
    "\n",
    "from pathlib import Path\n",
    "import tifffile as tiff\n",
    "import csv\n",
    "import numpy as np\n",
    "import torch\n",
    "from os import path\n",
    "import pandas as pd\n",
    "from tqdm import tqdm\n",
    "from ptorch_CNN_model import Model as buildModel\n",
    "\n",
    "class IndividualNormalize(object):\n",
    "    def __init__(self,upsampling_factor):\n",
    "        self.upsampling_factor = upsampling_factor\n",
    "\n",
    "    def __call__(self, sample):\n",
    "        img = np.array(sample)\n",
    "\n",
    "        # Define a function that projects an image to the range [0,1]\n",
    "        img = np.squeeze(img)\n",
    "        min_val = img.min()\n",
    "        max_val = img.max()\n",
    "        img = (img - min_val) / (max_val - min_val)\n",
    "\n",
    "        # Normalize image given mean and std\n",
    "        mean_img = img.mean()\n",
    "        std_img = img.std()\n",
    "        img = (img - mean_img) / std_img\n",
    "\n",
    "        # Upsampling using a simple nearest neighbor interp.\n",
    "        img = np.kron(img, np.ones((1, self.upsampling_factor, self.upsampling_factor)))\n",
    "        \n",
    "        return img\n",
    "    \n",
    "def simple_mask_cutoff(pred_img, min_threshold=0.1):\n",
    "    # rescale image so that in the range [0 1]\n",
    "    rescale_pred_img = (pred_img-pred_img.min())/(pred_img.max()-pred_img.min())\n",
    "\n",
    "    # Find the index where the cumulative distribution first exceeds \n",
    "    # use contrast (Max and Min)\n",
    "    pixel_threshold_index = rescale_pred_img >= min_threshold\n",
    "\n",
    "    mask = np.zeros(pred_img.shape)\n",
    "\n",
    "    # Get the corresponding pixel value\n",
    "    mask[pixel_threshold_index] = 1\n",
    "\n",
    "    area = mask.sum()\n",
    "\n",
    "    return mask, area\n",
    "\n",
    "# Define CUDA device\n",
    "device = torch.device('cuda' if torch.cuda.is_available() else 'cpu')\n",
    "f'Using device {device}'"
   ]
  },
  {
   "cell_type": "markdown",
   "metadata": {},
   "source": [
    "### Estimate the diffusivity based on simulated images"
   ]
  },
  {
   "cell_type": "code",
   "execution_count": null,
   "metadata": {},
   "outputs": [],
   "source": [
    "# Define the directory of model weight\n",
    "weights_file = Path('/path/to/trained_models/your_trained_model_name.pth')\n",
    "# Define the directory containing your images\n",
    "parent_path = Path('/path/to/save/simulated_dataset_forCalibrate_DiffCoeff')\n",
    "img_path = parent_path.joinpath('imgs')\n",
    "info_path = parent_path.joinpath('annotations')\n",
    "csv_savepath = parent_path.joinpath('your_trained_model_name_PT_area_results.csv')\n",
    "\n",
    "# Define normalization transformation\n",
    "transform_img_norm = IndividualNormalize(upsampling_factor=10)\n",
    "\n",
    "# Build the model\n",
    "model = buildModel().to(device)\n",
    "model.eval()\n",
    "\n",
    "# Load the trained weights\n",
    "model.load_state_dict(torch.load(weights_file))\n",
    "f'Model loaded from {weights_file}'\n",
    "\n",
    "# Get a list of all files in the directory and sort them\n",
    "img_files = list(img_path.glob('*.img.tif'))\n",
    "\n",
    "csv_filename = path.join(csv_savepath)\n",
    "with open(csv_filename, mode='w', newline='') as file:\n",
    "    writer = csv.writer(file)\n",
    "    # Write the header\n",
    "    writer.writerow(['ImageName', 'frame', 'loc_id', 'simSPT_D', 'D_value', 'D_fromMSD', 'logD_fromMSD', 'exposure_time', 'molecule_class', 'x_pix_pos', 'y_pix_pos', 'SNR','background','noise','PT_area'])    \n",
    "\n",
    "    for img_file in tqdm(img_files, total=len(img_files)):\n",
    "        img = tiff.imread(img_file)\n",
    "        info_file = info_path.joinpath( img_file.stem[:-4]+'.info.txt')\n",
    "        info = pd.read_csv(info_file,sep='\\t')\n",
    "        total_frame_num = img.shape[0]\n",
    "        for i in range(total_frame_num):\n",
    "            img_norm = transform_img_norm(img[i])            \n",
    "            # Convert the numpy array to a PyTorch tensor and move it to the CUDA device\n",
    "            img_norm_tensor = torch.as_tensor(img_norm).float().unsqueeze(0).to(device)\n",
    "            outputs = model(img_norm_tensor)\n",
    "\n",
    "            outputs_cpu = outputs.cpu().detach().numpy()\n",
    "            outputs_cpu = outputs_cpu.squeeze()\n",
    "\n",
    "            # Threshold negative values\n",
    "            outputs_cpu[outputs_cpu < 0] = 0\n",
    "            mask, PT_area = simple_mask_cutoff(pred_img=outputs_cpu, min_threshold=0.1) # current best solution to estimate mobility                        \n",
    "\n",
    "            writer.writerow([\n",
    "                img_file.name,\n",
    "                info.frame[i],\n",
    "                info.loc_id[i],\n",
    "                info.simSPT_D[i],\n",
    "                info.D_value[i],\n",
    "                info.D_fromMSD[i],\n",
    "                info.logD_fromMSD[i],\n",
    "                info.exposure_time[i],\n",
    "                info.molecule_class[i],\n",
    "                info.x_pix_pos[i],\n",
    "                info.y_pix_pos[i],\n",
    "                info.SNR[i],\n",
    "                info.background[i],\n",
    "                info.noise[i],\n",
    "                PT_area\n",
    "            ])                \n",
    "        \n",
    "print(f\"CSV file '{csv_filename}' has been created.\")\n"
   ]
  },
  {
   "cell_type": "markdown",
   "metadata": {},
   "source": [
    "### Fitting on matlab curvefit app to obtain the constant\n",
    "After obtain your_trained_model_name_PT_area_results.csv, read the csv into matlab using readtable() and fit using the equation y = a*sqrt(x), where y is PT area, and x is D_value, and obtain the fitting constant."
   ]
  }
 ],
 "metadata": {
  "kernelspec": {
   "display_name": "test_smldm",
   "language": "python",
   "name": "python3"
  },
  "language_info": {
   "codemirror_mode": {
    "name": "ipython",
    "version": 3
   },
   "file_extension": ".py",
   "mimetype": "text/x-python",
   "name": "python",
   "nbconvert_exporter": "python",
   "pygments_lexer": "ipython3",
   "version": "3.10.18"
  }
 },
 "nbformat": 4,
 "nbformat_minor": 2
}
